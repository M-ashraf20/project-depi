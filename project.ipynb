{
 "cells": [
  {
   "cell_type": "code",
   "execution_count": 1,
   "metadata": {},
   "outputs": [],
   "source": [
    "import pandas as pd \n",
    "import numpy as np \n",
    "import matplotlib as plt \n",
    "import seaborn as sns \n"
   ]
  },
  {
   "cell_type": "code",
   "execution_count": 2,
   "metadata": {},
   "outputs": [],
   "source": [
    "EducationLevel_table = pd.read_csv('EducationLevel.csv')\n",
    "Employee_table=pd.read_csv('Employee.csv')\n",
    "Rating_table=pd.read_csv('RatingLevel.csv')\n",
    "satisfied_table=pd.read_csv('SatisfiedLevel.csv')"
   ]
  },
  {
   "cell_type": "code",
   "execution_count": 8,
   "metadata": {},
   "outputs": [
    {
     "data": {
      "text/plain": [
       "EmployeeID                 1470\n",
       "FirstName                  1470\n",
       "LastName                   1470\n",
       "Gender                     1470\n",
       "Age                        1470\n",
       "BusinessTravel             1470\n",
       "Department                 1470\n",
       "DistanceFromHome (KM)      1470\n",
       "State                      1470\n",
       "Ethnicity                  1470\n",
       "Education                  1470\n",
       "EducationField             1470\n",
       "JobRole                    1470\n",
       "MaritalStatus              1470\n",
       "Salary                     1470\n",
       "StockOptionLevel           1470\n",
       "OverTime                   1470\n",
       "HireDate                   1470\n",
       "Attrition                  1470\n",
       "YearsAtCompany             1470\n",
       "YearsInMostRecentRole      1470\n",
       "YearsSinceLastPromotion    1470\n",
       "YearsWithCurrManager       1470\n",
       "dtype: int64"
      ]
     },
     "execution_count": 8,
     "metadata": {},
     "output_type": "execute_result"
    }
   ],
   "source": [
    "Employee_table.isnull().count()"
   ]
  },
  {
   "cell_type": "code",
   "execution_count": null,
   "metadata": {},
   "outputs": [],
   "source": []
  }
 ],
 "metadata": {
  "kernelspec": {
   "display_name": "Python 3",
   "language": "python",
   "name": "python3"
  },
  "language_info": {
   "codemirror_mode": {
    "name": "ipython",
    "version": 3
   },
   "file_extension": ".py",
   "mimetype": "text/x-python",
   "name": "python",
   "nbconvert_exporter": "python",
   "pygments_lexer": "ipython3",
   "version": "3.13.0"
  }
 },
 "nbformat": 4,
 "nbformat_minor": 2
}
